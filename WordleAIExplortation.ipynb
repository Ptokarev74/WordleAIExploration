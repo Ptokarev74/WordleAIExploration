{
  "cells": [
    {
      "cell_type": "code",
      "execution_count": null,
      "metadata": {
        "id": "19aSE0pBdBjs"
      },
      "outputs": [],
      "source": [
        "# Import all needed Modules for future use\n",
        "\n",
        "import time\n",
        "import random\n",
        "from collections import Counter, defaultdict\n",
        "import math"
      ]
    },
    {
      "cell_type": "code",
      "execution_count": null,
      "metadata": {
        "colab": {
          "base_uri": "https://localhost:8080/"
        },
        "id": "6RqpC4ocEQ0g",
        "outputId": "0ff83e84-3b4f-41dc-f9bd-baf34a12c400"
      },
      "outputs": [
        {
          "name": "stdout",
          "output_type": "stream",
          "text": [
            "['craft', 'ardor', 'level', 'humph', 'grind', 'donor', 'clout', 'water', 'chaos', 'shire', 'await', 'audio', 'chose', 'grain', 'harem', 'titan', 'arose', 'frond', 'watch', 'sheep', 'grate', 'sonar', 'lithe', 'adorn', 'empty', 'shoal', 'pence', 'lipid', 'eight', 'golly', 'paste', 'cloud', 'choir', 'rebel', 'claim', 'primo', 'picky', 'knife', 'being', 'spool', 'verve', 'cynic', 'reach', 'cadet', 'whoop', 'march', 'proud', 'foist', 'broke', 'beset', 'guide', 'maize', 'cameo', 'harpy', 'cloak', 'woody', 'worry', 'speed', 'pupal', 'equal', 'quest', 'posit', 'given', 'lager', 'brute', 'false', 'vapor', 'humor', 'erect', 'squat', 'rearm', 'laugh', 'graph', 'oddly', 'blown', 'gulch', 'awake', 'needy', 'saner', 'lapel', 'breed', 'glaze', 'nasty', 'globe', 'thief', 'rowdy', 'spoof', 'drank', 'knock', 'yield', 'hutch', 'visit', 'kitty', 'silky', 'salad', 'prove', 'grape', 'dodge', 'touch', 'teach', 'child', 'bicep', 'coven', 'earth', 'endow', 'shirk', 'brain', 'reply', 'refer', 'steam', 'unwed', 'inbox', 'album', 'credo', 'vigil', 'ladle', 'worse', 'zonal', 'marsh', 'sleep', 'elope', 'spell', 'abyss', 'knave', 'thorn', 'fifth', 'tooth', 'comma', 'merit', 'vault', 'wreck', 'vivid', 'radii', 'enter', 'urine', 'abate', 'odder', 'tacit', 'angel', 'crane', 'prune', 'motif', 'hippo', 'boast', 'holly', 'wince', 'chaff', 'swoon', 'broil', 'daisy', 'debug', 'stove', 'ethic', 'knoll', 'shone', 'glide', 'fully', 'munch', 'saint', 'racer', 'slump', 'truce', 'spank', 'crumb', 'icily', 'gross', 'brand', 'pause', 'annex', 'guppy', 'wrack', 'afire', 'brunt', 'bonus', 'guise', 'brief', 'avian', 'ovary', 'twine', 'trend', 'helix', 'liver', 'swirl', 'gnome', 'dense', 'stone', 'hound', 'stony', 'scoff', 'flunk', 'chunk', 'clamp', 'skiff', 'pooch', 'shook', 'scuba', 'state', 'bliss', 'clean', 'borax', 'saucy', 'pearl', 'coupe', 'idiom', 'focal', 'truss', 'solid', 'doubt', 'wryly', 'flaky', 'tumor', 'squib', 'iliac', 'bushy', 'snack', 'clasp', 'bland', 'aloft', 'chore', 'heath', 'every', 'scene', 'swish', 'surly', 'glyph', 'sandy', 'bongo', 'ester', 'ready', 'abode', 'risky', 'known', 'spice', 'lunge', 'shock', 'swore', 'eerie', 'flume', 'medal', 'grace', 'boney', 'borne', 'nadir', 'blurt', 'blade', 'stuck', 'thyme', 'elfin', 'blunt', 'candy', 'flier', 'briny', 'bring', 'havoc', 'savoy', 'crowd', 'husky', 'batty', 'cargo', 'sheen', 'nerve', 'juror', 'gassy', 'nanny', 'heron', 'koala', 'rower', 'delta', 'parse', 'oaken', 'dunce', 'guilt', 'verse', 'stale', 'ranch', 'steal', 'balmy', 'adapt', 'weedy', 'mucus', 'loose', 'black', 'banjo', 'latch', 'conch', 'inlay', 'depth', 'waver', 'stash', 'femme', 'smear', 'azure', 'smack', 'cubic', 'flask', 'drake', 'cagey', 'grant', 'shame', 'learn', 'plume', 'dwarf', 'moody', 'savor', 'opera', 'witty', 'actor', 'panel', 'scorn', 'linen', 'dumpy', 'stare', 'owing', 'bleak', 'stein', 'slush', 'bride', 'tuber', 'board', 'sneer', 'blind', 'quill', 'limbo', 'cacao', 'diode', 'dowel', 'minus', 'color', 'prime', 'fanny', 'close', 'piano', 'newly', 'shuck', 'denim', 'ingot', 'human', 'dairy', 'speak', 'spelt', 'topaz', 'argue', 'bevel', 'nicer', 'union', 'shack', 'voila', 'antic', 'abled', 'evoke', 'resin', 'brawl', 'ninny', 'think', 'canoe', 'quick', 'gravy', 'liege', 'point', 'tower', 'lodge', 'theft', 'weigh', 'basic', 'stomp', 'smirk', 'pinky', 'spark', 'burnt', 'ledge', 'amiss', 'shape', 'tawny', 'mange', 'liken', 'bunny', 'golem', 'brake', 'ankle', 'eclat', 'fjord', 'sooth', 'start', 'rural', 'sixty', 'angle', 'sonic', 'fifty', 'colon', 'perch', 'windy', 'paler', 'blast', 'fewer', 'risen', 'local', 'smith', 'slope', 'gaily', 'mucky', 'raise', 'cabin', 'stack', 'stall', 'croak', 'skull', 'caper', 'salsa', 'scant', 'cheap', 'smell', 'gayly', 'alibi', 'chess', 'quark', 'whack', 'event', 'rivet', 'gayer', 'towel', 'paper', 'skulk', 'quail', 'stand', 'cutie', 'detox', 'whose', 'roost', 'plied', 'trout', 'foamy', 'slime', 'usual', 'singe', 'tibia', 'crack', 'click', 'score', 'twixt', 'fence', 'early', 'screw', 'rumor', 'slick', 'crazy', 'vicar', 'alert', 'outer', 'clack', 'frost', 'erupt', 'dolly', 'stark', 'badge', 'reuse', 'wager', 'fetal', 'nosey', 'irate', 'frown', 'pedal', 'shiny', 'large', 'etude', 'alley', 'synod', 'slunk', 'deity', 'cheek', 'mamma', 'tenor', 'amuse', 'blitz', 'merge', 'gouge', 'fauna', 'pulse', 'rogue', 'elect', 'graft', 'missy', 'itchy', 'uncut', 'folio', 'madam', 'cider', 'dealt', 'sunny', 'truer', 'soggy', 'abbey', 'jumbo', 'saute', 'later', 'photo', 'prism', 'quiet', 'quart', 'parka', 'trope']\n",
            "500\n"
          ]
        }
      ],
      "source": [
        "# Load the list of 5 letter words\n",
        "# Word list from https://gist.github.com/cfreshman/a03ef2cba789d8cf00c08f767e0fad7b\n",
        "\n",
        "def load_word_list(filepath=\"wordle-answers-alphabetical.txt\"):\n",
        "    with open(filepath, \"r\") as file:\n",
        "        words = [line.strip().lower() for line in file if len(line.strip()) == 5]\n",
        "    return words\n",
        "\n",
        "wordList = load_word_list()\n",
        "\n",
        "\n",
        "random.seed(42)  # Preset Seed for replicable results\n",
        "wordList = random.sample(wordList, 500)\n",
        "\n",
        "print(wordList)\n",
        "print(len(wordList))"
      ]
    },
    {
      "cell_type": "code",
      "execution_count": null,
      "metadata": {
        "id": "a9KXeuEh_XM3"
      },
      "outputs": [],
      "source": [
        "# Feedback for a guess\n",
        "\n",
        "def get_feedback(guess, target):\n",
        "    \"\"\"\n",
        "    Returns feedback for a Wordle guess:\n",
        "    - 'g' for green (correct letter and position)\n",
        "    - 'y' for yellow (correct letter, wrong position)\n",
        "    - 'b' for black/gray (letter not in word)\n",
        "    \"\"\"\n",
        "    feedback = ['b'] * 5\n",
        "    target_chars = list(target)\n",
        "    used_indices = []\n",
        "\n",
        "    # First pass for greens\n",
        "    for i in range(5):\n",
        "        if guess[i] == target[i]:\n",
        "            feedback[i] = 'g'\n",
        "            target_chars[i] = None\n",
        "            used_indices.append(i)\n",
        "\n",
        "    # Second pass for yellows\n",
        "    for i in range(5):\n",
        "        if feedback[i] == 'b' and guess[i] in target_chars:\n",
        "            index = target_chars.index(guess[i])\n",
        "            feedback[i] = 'y'\n",
        "            target_chars[index] = None\n",
        "\n",
        "    return ''.join(feedback)"
      ]
    },
    {
      "cell_type": "code",
      "execution_count": null,
      "metadata": {
        "id": "Rmjjo0P0pWxN"
      },
      "outputs": [],
      "source": [
        "# Creates a list of calculated entropies of all words without guesses\n",
        "# Useful for future performance of the Entropy wordle solver\n",
        "\n",
        "\n",
        "def precompute_first_entropy(wordList):\n",
        "    entropy_scores = [(word, calculate_entropy(word, wordList)) for word in wordList]\n",
        "    entropy_scores.sort(key=lambda x: x[1], reverse=True)\n",
        "    return entropy_scores\n",
        "\n",
        "precomputed_entropy = precompute_first_entropy(wordList)\n"
      ]
    },
    {
      "cell_type": "code",
      "execution_count": null,
      "metadata": {
        "id": "ATPJLIuvtzEP"
      },
      "outputs": [],
      "source": [
        "def update_possible_words(possible_words, guess, feedback):\n",
        "    updated_words = []\n",
        "\n",
        "    for word in possible_words:\n",
        "        if get_feedback(guess, word) == feedback:\n",
        "            updated_words.append(word)\n",
        "\n",
        "    return updated_words\n"
      ]
    },
    {
      "cell_type": "markdown",
      "metadata": {
        "id": "-T3YfAsyiMO4"
      },
      "source": [
        "This is the rule based solver approach. Just like other basic rule solvers this simply evluates words and removes words from the possible word list taht do not have the letters that are in the feedback of the guess."
      ]
    },
    {
      "cell_type": "code",
      "execution_count": null,
      "metadata": {
        "id": "oQMQNQsj-JXU"
      },
      "outputs": [],
      "source": [
        "def rule_based_solver(target, word_list):\n",
        "    # Common Starting guess for players\n",
        "    guess = \"slate\"\n",
        "    attempts = 1\n",
        "    candidates = word_list.copy()\n",
        "\n",
        "    while guess != target:\n",
        "\n",
        "        feedback = get_feedback(guess, target)\n",
        "\n",
        "        # Filter words based on feedback\n",
        "        new_candidates = []\n",
        "        for word in candidates:\n",
        "            if get_feedback(guess, word) == feedback:\n",
        "                new_candidates.append(word)\n",
        "        candidates = new_candidates\n",
        "\n",
        "        # Stop if no words left\n",
        "        if not candidates or attempts > 6:\n",
        "            return attempts, False  # Failure case\n",
        "\n",
        "        guess = candidates[0]\n",
        "        attempts += 1\n",
        "\n",
        "    return attempts, True  # Success"
      ]
    },
    {
      "cell_type": "code",
      "execution_count": null,
      "metadata": {
        "id": "I68gPwyhpHLq"
      },
      "outputs": [],
      "source": [
        "def evaluate_rule_solver(word_list):\n",
        "    total_attempts = 0\n",
        "    solved = 0\n",
        "\n",
        "    for target in word_list:\n",
        "        attempts, success = rule_based_solver(target, word_list)\n",
        "        total_attempts += attempts\n",
        "        if success:\n",
        "            solved += 1\n",
        "\n",
        "    average_attempts = total_attempts / len(word_list)\n",
        "    success_rate = solved / len(word_list) * 100\n",
        "\n",
        "    print(f\"\\nAverage attempts: {average_attempts:.2f}\")\n",
        "    print(f\"Success rate: {success_rate:.2f}%\")\n",
        "\n",
        "    return average_attempts, success_rate\n"
      ]
    },
    {
      "cell_type": "code",
      "execution_count": null,
      "metadata": {
        "id": "SizoZxHrtTJm"
      },
      "outputs": [],
      "source": [
        "def letter_frequency(words):\n",
        "    freq = [Counter() for _ in range(5)]\n",
        "    for word in words:\n",
        "        for i, char in enumerate(word):\n",
        "            freq[i][char] += 1\n",
        "    return freq\n"
      ]
    },
    {
      "cell_type": "code",
      "execution_count": null,
      "metadata": {
        "id": "NQ_qLSm6tU6b"
      },
      "outputs": [],
      "source": [
        "def score_word(word, freq_table):\n",
        "    score = 0\n",
        "    seen = set()\n",
        "    for i, char in enumerate(word):\n",
        "        if char not in seen:\n",
        "            score += freq_table[i][char]\n",
        "            seen.add(char)\n",
        "    return score\n"
      ]
    },
    {
      "cell_type": "code",
      "execution_count": null,
      "metadata": {
        "id": "nuEcJhxZtWya"
      },
      "outputs": [],
      "source": [
        "def frequency_based_solver(target, word_list):\n",
        "    possible_words = word_list[:]\n",
        "    attempts = 0\n",
        "\n",
        "    while attempts < 6:\n",
        "        freq_table = letter_frequency(possible_words)\n",
        "        scored_words = [(word, score_word(word, freq_table)) for word in possible_words]\n",
        "        scored_words.sort(key=lambda x: x[1], reverse=True)\n",
        "\n",
        "        guess = scored_words[0][0]\n",
        "        feedback = get_feedback(guess, target)\n",
        "        attempts += 1\n",
        "\n",
        "        if feedback == 'g' * 5:\n",
        "            return attempts, True\n",
        "\n",
        "        possible_words = update_possible_words(possible_words, guess, feedback)\n",
        "\n",
        "    return attempts, False\n"
      ]
    },
    {
      "cell_type": "code",
      "execution_count": null,
      "metadata": {
        "id": "sdpW_hkLtYJ9"
      },
      "outputs": [],
      "source": [
        "def evaluate_freq_solver(word_list):\n",
        "    total_attempts = 0\n",
        "    solved = 0\n",
        "\n",
        "    for target in word_list:\n",
        "        attempts, success = frequency_based_solver(target, word_list)\n",
        "        total_attempts += attempts\n",
        "        if success:\n",
        "            solved += 1\n",
        "\n",
        "    average_attempts = total_attempts / len(word_list)\n",
        "    success_rate = solved / len(word_list) * 100\n",
        "\n",
        "    print(f\"\\nAverage attempts: {average_attempts:}\")\n",
        "    print(f\"Success rate: {success_rate:}%\")\n",
        "\n",
        "    return average_attempts, success_rate\n"
      ]
    },
    {
      "cell_type": "code",
      "execution_count": null,
      "metadata": {
        "id": "lAQnZBQjynL4"
      },
      "outputs": [],
      "source": [
        "def calculate_entropy(guess, possible_words):\n",
        "    feedback_counts = defaultdict(int)\n",
        "\n",
        "    for word in possible_words:\n",
        "        feedback = tuple(get_feedback(guess, word))\n",
        "        feedback_counts[feedback] += 1\n",
        "\n",
        "    total = len(possible_words)\n",
        "    entropy = 0.0\n",
        "    for count in feedback_counts.values():\n",
        "        p = count / total\n",
        "        entropy -= p * math.log2(p)\n",
        "\n",
        "    return entropy\n",
        "\n",
        "def entropy_based_solver(word_list, target_word, precomputed_entropy=None):\n",
        "    possible_words = word_list.copy()\n",
        "    attempts = 0\n",
        "    success = False\n",
        "\n",
        "\n",
        "\n",
        "    while attempts < 6:\n",
        "        if attempts == 0 and precomputed_entropy is not None:\n",
        "            entropy_scores = precomputed_entropy\n",
        "        else:\n",
        "            entropy_scores = [(word, calculate_entropy(word, possible_words)) for word in possible_words]\n",
        "            entropy_scores.sort(key=lambda x: x[1], reverse=True)\n",
        "\n",
        "        guess = entropy_scores[0][0]\n",
        "        feedback = get_feedback(guess, target_word)\n",
        "        print(f\"Guess: {guess}, Feedback: {feedback}\")\n",
        "        attempts += 1\n",
        "\n",
        "        if guess == target_word:\n",
        "            success = True\n",
        "            break\n",
        "\n",
        "        possible_words = update_possible_words(possible_words, guess, feedback)\n",
        "\n",
        "    return attempts, success\n"
      ]
    },
    {
      "cell_type": "code",
      "execution_count": null,
      "metadata": {
        "id": "niOJH7F0yp7-"
      },
      "outputs": [],
      "source": [
        "def evaluate_entropy_solver(word_list):\n",
        "    total_attempts = 0\n",
        "    solved = 0\n",
        "\n",
        "    for target in word_list:\n",
        "        attempts, success = entropy_based_solver(word_list, target)\n",
        "        total_attempts += attempts\n",
        "        if success:\n",
        "            solved += 1\n",
        "\n",
        "    average_attempts = total_attempts / len(word_list)\n",
        "    success_rate = solved / len(word_list) * 100\n",
        "\n",
        "    print(f\"\\nAverage attempts: {average_attempts:}\")\n",
        "    print(f\"Success rate: {success_rate:}%\")\n",
        "\n",
        "    return average_attempts, success_rate\n"
      ]
    },
    {
      "cell_type": "code",
      "execution_count": null,
      "metadata": {
        "colab": {
          "base_uri": "https://localhost:8080/"
        },
        "id": "L0i0mrEWpOmK",
        "outputId": "8f628809-e8e9-4e62-ea6a-6095899dc0d2"
      },
      "outputs": [
        {
          "name": "stdout",
          "output_type": "stream",
          "text": [
            "\n",
            "Average attempts: 3.16\n",
            "Success rate: 100.00%\n",
            "Execution time: 0.5053036212921143 seconds\n"
          ]
        }
      ],
      "source": [
        "start = time.time()\n",
        "evaluate_rule_solver(wordList)\n",
        "end = time.time()\n",
        "\n",
        "print(f\"Execution time: {end - start:} seconds\")"
      ]
    },
    {
      "cell_type": "code",
      "execution_count": null,
      "metadata": {
        "colab": {
          "base_uri": "https://localhost:8080/"
        },
        "id": "WVANHRGTuCsU",
        "outputId": "1794ca48-58bd-44f1-ca5c-2a04e95e3ad9"
      },
      "outputs": [
        {
          "name": "stdout",
          "output_type": "stream",
          "text": [
            "\n",
            "Average attempts: 3.09\n",
            "Success rate: 100.00%\n",
            "Execution time: 1.185394287109375 seconds\n"
          ]
        }
      ],
      "source": [
        "start = time.time()\n",
        "evaluate_freq_solver(wordList)\n",
        "end = time.time()\n",
        "\n",
        "print(f\"Execution time: {end - start:} seconds\")"
      ]
    },
    {
      "cell_type": "code",
      "execution_count": null,
      "metadata": {
        "colab": {
          "base_uri": "https://localhost:8080/"
        },
        "id": "pdld6Sx-ywnA",
        "outputId": "399fb07c-a64b-4e7a-b255-ab763e5d728a"
      },
      "outputs": [
        {
          "name": "stdout",
          "output_type": "stream",
          "text": [
            "\n",
            "Average attempts: 2.98\n",
            "Success rate: 100.00%\n",
            "Execution time: 309.7014527320862 seconds\n"
          ]
        }
      ],
      "source": [
        "start = time.time()\n",
        "evaluate_entropy_solver(wordList)\n",
        "end = time.time()\n",
        "\n",
        "print(f\"Execution time: {end - start:} seconds\")"
      ]
    }
  ],
  "metadata": {
    "colab": {
      "provenance": []
    },
    "kernelspec": {
      "display_name": "Python 3",
      "name": "python3"
    },
    "language_info": {
      "name": "python"
    }
  },
  "nbformat": 4,
  "nbformat_minor": 0
}